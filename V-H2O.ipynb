{
 "cells": [
  {
   "cell_type": "code",
   "execution_count": 3,
   "metadata": {},
   "outputs": [
    {
     "name": "stdout",
     "output_type": "stream",
     "text": [
      "Checking whether there is an H2O instance running at http://localhost:54321 . connected.\n"
     ]
    },
    {
     "data": {
      "text/html": [
       "<div style=\"overflow:auto\"><table style=\"width:50%\"><tr><td>H2O cluster uptime:</td>\n",
       "<td>11 mins 37 secs</td></tr>\n",
       "<tr><td>H2O cluster timezone:</td>\n",
       "<td>Europe/Madrid</td></tr>\n",
       "<tr><td>H2O data parsing timezone:</td>\n",
       "<td>UTC</td></tr>\n",
       "<tr><td>H2O cluster version:</td>\n",
       "<td>3.26.0.1</td></tr>\n",
       "<tr><td>H2O cluster version age:</td>\n",
       "<td>16 days </td></tr>\n",
       "<tr><td>H2O cluster name:</td>\n",
       "<td>H2O_from_python_iudh_vkgpw9</td></tr>\n",
       "<tr><td>H2O cluster total nodes:</td>\n",
       "<td>1</td></tr>\n",
       "<tr><td>H2O cluster free memory:</td>\n",
       "<td>1.055 Gb</td></tr>\n",
       "<tr><td>H2O cluster total cores:</td>\n",
       "<td>4</td></tr>\n",
       "<tr><td>H2O cluster allowed cores:</td>\n",
       "<td>4</td></tr>\n",
       "<tr><td>H2O cluster status:</td>\n",
       "<td>locked, healthy</td></tr>\n",
       "<tr><td>H2O connection url:</td>\n",
       "<td>http://localhost:54321</td></tr>\n",
       "<tr><td>H2O connection proxy:</td>\n",
       "<td>None</td></tr>\n",
       "<tr><td>H2O internal security:</td>\n",
       "<td>False</td></tr>\n",
       "<tr><td>H2O API Extensions:</td>\n",
       "<td>Amazon S3, XGBoost, Algos, AutoML, Core V3, Core V4</td></tr>\n",
       "<tr><td>Python version:</td>\n",
       "<td>3.7.2 final</td></tr></table></div>"
      ],
      "text/plain": [
       "--------------------------  ---------------------------------------------------\n",
       "H2O cluster uptime:         11 mins 37 secs\n",
       "H2O cluster timezone:       Europe/Madrid\n",
       "H2O data parsing timezone:  UTC\n",
       "H2O cluster version:        3.26.0.1\n",
       "H2O cluster version age:    16 days\n",
       "H2O cluster name:           H2O_from_python_iudh_vkgpw9\n",
       "H2O cluster total nodes:    1\n",
       "H2O cluster free memory:    1.055 Gb\n",
       "H2O cluster total cores:    4\n",
       "H2O cluster allowed cores:  4\n",
       "H2O cluster status:         locked, healthy\n",
       "H2O connection url:         http://localhost:54321\n",
       "H2O connection proxy:\n",
       "H2O internal security:      False\n",
       "H2O API Extensions:         Amazon S3, XGBoost, Algos, AutoML, Core V3, Core V4\n",
       "Python version:             3.7.2 final\n",
       "--------------------------  ---------------------------------------------------"
      ]
     },
     "metadata": {},
     "output_type": "display_data"
    }
   ],
   "source": [
    "import h2o\n",
    "from h2o.estimators.gbm import H2OGradientBoostingEstimator\n",
    "import os\n",
    "\n",
    "h2o.init()"
   ]
  },
  {
   "cell_type": "code",
   "execution_count": 5,
   "metadata": {},
   "outputs": [
    {
     "name": "stdout",
     "output_type": "stream",
     "text": [
      "Parse progress: |█████████████████████████████████████████████████████████| 100%\n",
      "Parse progress: |█████████████████████████████████████████████████████████| 100%\n"
     ]
    }
   ],
   "source": [
    "diamonds = h2o.import_file(os.path.realpath('diamonds_train.csv'))\n",
    "final_test = h2o.import_file(os.path.realpath('diamonds_test.csv'))\n",
    "\n",
    "train, valid, test = diamonds.split_frame(ratios=[0.6,0.2], seed=1234)\n",
    "response = \"price\""
   ]
  },
  {
   "cell_type": "code",
   "execution_count": 6,
   "metadata": {},
   "outputs": [
    {
     "name": "stdout",
     "output_type": "stream",
     "text": [
      "Number of rows in train, valid and test set :  24348 8127 7980\n"
     ]
    },
    {
     "data": {
      "text/html": [
       "<table>\n",
       "<thead>\n",
       "<tr><th style=\"text-align: right;\">  carat</th><th>cut      </th><th>color  </th><th>clarity  </th><th style=\"text-align: right;\">  depth</th><th style=\"text-align: right;\">  table</th><th style=\"text-align: right;\">  price</th><th style=\"text-align: right;\">   x</th><th style=\"text-align: right;\">   y</th><th style=\"text-align: right;\">   z</th></tr>\n",
       "</thead>\n",
       "<tbody>\n",
       "<tr><td style=\"text-align: right;\">   0.32</td><td>Very Good</td><td>H      </td><td>VS2      </td><td style=\"text-align: right;\">   63  </td><td style=\"text-align: right;\">   57  </td><td style=\"text-align: right;\">    505</td><td style=\"text-align: right;\">4.35</td><td style=\"text-align: right;\">4.38</td><td style=\"text-align: right;\">2.75</td></tr>\n",
       "<tr><td style=\"text-align: right;\">   1.02</td><td>Ideal    </td><td>G      </td><td>SI1      </td><td style=\"text-align: right;\">   60.5</td><td style=\"text-align: right;\">   59  </td><td style=\"text-align: right;\">   4882</td><td style=\"text-align: right;\">6.55</td><td style=\"text-align: right;\">6.51</td><td style=\"text-align: right;\">3.95</td></tr>\n",
       "<tr><td style=\"text-align: right;\">   1.52</td><td>Ideal    </td><td>F      </td><td>SI2      </td><td style=\"text-align: right;\">   61.2</td><td style=\"text-align: right;\">   57  </td><td style=\"text-align: right;\">   9057</td><td style=\"text-align: right;\">7.45</td><td style=\"text-align: right;\">7.39</td><td style=\"text-align: right;\">4.54</td></tr>\n",
       "<tr><td style=\"text-align: right;\">   1.01</td><td>Fair     </td><td>H      </td><td>VS2      </td><td style=\"text-align: right;\">   65.2</td><td style=\"text-align: right;\">   56  </td><td style=\"text-align: right;\">   3733</td><td style=\"text-align: right;\">6.23</td><td style=\"text-align: right;\">6.19</td><td style=\"text-align: right;\">4.05</td></tr>\n",
       "<tr><td style=\"text-align: right;\">   1.52</td><td>Ideal    </td><td>J      </td><td>VS1      </td><td style=\"text-align: right;\">   62.3</td><td style=\"text-align: right;\">   58  </td><td style=\"text-align: right;\">   8608</td><td style=\"text-align: right;\">7.32</td><td style=\"text-align: right;\">7.35</td><td style=\"text-align: right;\">4.57</td></tr>\n",
       "<tr><td style=\"text-align: right;\">   0.31</td><td>Ideal    </td><td>H      </td><td>VS1      </td><td style=\"text-align: right;\">   61.8</td><td style=\"text-align: right;\">   54.2</td><td style=\"text-align: right;\">    557</td><td style=\"text-align: right;\">4.33</td><td style=\"text-align: right;\">4.37</td><td style=\"text-align: right;\">2.69</td></tr>\n",
       "<tr><td style=\"text-align: right;\">   0.44</td><td>Premium  </td><td>E      </td><td>SI1      </td><td style=\"text-align: right;\">   62.3</td><td style=\"text-align: right;\">   59  </td><td style=\"text-align: right;\">   1040</td><td style=\"text-align: right;\">4.88</td><td style=\"text-align: right;\">4.84</td><td style=\"text-align: right;\">3.03</td></tr>\n",
       "<tr><td style=\"text-align: right;\">   1.02</td><td>Premium  </td><td>I      </td><td>SI1      </td><td style=\"text-align: right;\">   58  </td><td style=\"text-align: right;\">   58  </td><td style=\"text-align: right;\">   4284</td><td style=\"text-align: right;\">6.84</td><td style=\"text-align: right;\">6.6 </td><td style=\"text-align: right;\">3.9 </td></tr>\n",
       "<tr><td style=\"text-align: right;\">   0.93</td><td>Ideal    </td><td>I      </td><td>SI2      </td><td style=\"text-align: right;\">   62.3</td><td style=\"text-align: right;\">   57  </td><td style=\"text-align: right;\">   3101</td><td style=\"text-align: right;\">6.2 </td><td style=\"text-align: right;\">6.22</td><td style=\"text-align: right;\">3.87</td></tr>\n",
       "<tr><td style=\"text-align: right;\">   1.51</td><td>Premium  </td><td>G      </td><td>VS1      </td><td style=\"text-align: right;\">   60.1</td><td style=\"text-align: right;\">   58  </td><td style=\"text-align: right;\">  14507</td><td style=\"text-align: right;\">7.48</td><td style=\"text-align: right;\">7.45</td><td style=\"text-align: right;\">4.49</td></tr>\n",
       "</tbody>\n",
       "</table>"
      ]
     },
     "metadata": {},
     "output_type": "display_data"
    },
    {
     "name": "stdout",
     "output_type": "stream",
     "text": [
      "\n"
     ]
    }
   ],
   "source": [
    "print(\"Number of rows in train, valid and test set : \", train.shape[0], valid.shape[0], test.shape[0])\n",
    "print(train)"
   ]
  },
  {
   "cell_type": "code",
   "execution_count": 7,
   "metadata": {},
   "outputs": [
    {
     "name": "stdout",
     "output_type": "stream",
     "text": [
      "Starting training...\n",
      "gbm Model Build progress: |███████████████████████████████████████████████| 100%\n"
     ]
    }
   ],
   "source": [
    "print('Starting training...')\n",
    "# train\n",
    "predictors = diamonds.columns[:-1]\n",
    "gbm = H2OGradientBoostingEstimator(\n",
    "    stopping_metric = \"rmse\",\n",
    "    categorical_encoding=\"label_encoder\",\n",
    "    max_depth = 5,\n",
    "    ntrees = 4000,\n",
    "    learn_rate = 0.01,\n",
    "    stopping_rounds = 20,\n",
    "    col_sample_rate = 0.7,\n",
    "    sample_rate = 0.7,\n",
    "    seed = 1234,\n",
    ")\n",
    "gbm.train(x=predictors, y=response, training_frame=train, validation_frame=valid)"
   ]
  },
  {
   "cell_type": "code",
   "execution_count": 8,
   "metadata": {},
   "outputs": [
    {
     "name": "stdout",
     "output_type": "stream",
     "text": [
      "\n",
      "ModelMetricsRegression: gbm\n",
      "** Reported on test data. **\n",
      "\n",
      "MSE: 292058.25053981575\n",
      "RMSE: 540.4241394865849\n",
      "MAE: 279.5880995578527\n",
      "RMSLE: NaN\n",
      "Mean Residual Deviance: 292058.25053981575\n",
      "\n"
     ]
    }
   ],
   "source": [
    "perf = gbm.model_performance(test)\n",
    "print (perf)"
   ]
  },
  {
   "cell_type": "code",
   "execution_count": null,
   "metadata": {},
   "outputs": [],
   "source": []
  }
 ],
 "metadata": {
  "kernelspec": {
   "display_name": "Python 3",
   "language": "python",
   "name": "python3"
  },
  "language_info": {
   "codemirror_mode": {
    "name": "ipython",
    "version": 3
   },
   "file_extension": ".py",
   "mimetype": "text/x-python",
   "name": "python",
   "nbconvert_exporter": "python",
   "pygments_lexer": "ipython3",
   "version": "3.7.2"
  }
 },
 "nbformat": 4,
 "nbformat_minor": 2
}
